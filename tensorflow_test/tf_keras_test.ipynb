{
 "cells": [
  {
   "cell_type": "code",
   "execution_count": 1,
   "metadata": {},
   "outputs": [
    {
     "name": "stderr",
     "output_type": "stream",
     "text": [
      "/home/yqw/anaconda3/lib/python3.6/site-packages/h5py/__init__.py:36: FutureWarning: Conversion of the second argument of issubdtype from `float` to `np.floating` is deprecated. In future, it will be treated as `np.float64 == np.dtype(float).type`.\n",
      "  from ._conv import register_converters as _register_converters\n"
     ]
    },
    {
     "name": "stdout",
     "output_type": "stream",
     "text": [
      "TensorFlow version: 1.8.0\n",
      "Eager execution: True\n"
     ]
    }
   ],
   "source": [
    "from __future__ import absolute_import, division, print_function\n",
    "\n",
    "import os\n",
    "import matplotlib.pyplot as plt\n",
    "\n",
    "import tensorflow as tf\n",
    "import tensorflow.contrib.eager as tfe\n",
    "\n",
    "tf.enable_eager_execution()\n",
    "\n",
    "print(\"TensorFlow version: {}\".format(tf.VERSION))\n",
    "print(\"Eager execution: {}\".format(tf.executing_eagerly()))"
   ]
  },
  {
   "cell_type": "code",
   "execution_count": 2,
   "metadata": {},
   "outputs": [
    {
     "name": "stdout",
     "output_type": "stream",
     "text": [
      "Local copy of the dataset file: /home/yqw/.keras/datasets/iris_training.csv\n"
     ]
    }
   ],
   "source": [
    "train_dataset_url = \"http://download.tensorflow.org/data/iris_training.csv\"\n",
    "\n",
    "train_dataset_fp = tf.keras.utils.get_file(fname=os.path.basename(train_dataset_url),\n",
    "                                           origin=train_dataset_url)\n",
    "\n",
    "print(\"Local copy of the dataset file: {}\".format(train_dataset_fp))"
   ]
  },
  {
   "cell_type": "code",
   "execution_count": 3,
   "metadata": {},
   "outputs": [
    {
     "name": "stdout",
     "output_type": "stream",
     "text": [
      "120,4,setosa,versicolor,virginica\r\n",
      "6.4,2.8,5.6,2.2,2\r\n",
      "5.0,2.3,3.3,1.0,1\r\n",
      "4.9,2.5,4.5,1.7,2\r\n",
      "4.9,3.1,1.5,0.1,0\r\n",
      "5.7,3.8,1.7,0.3,0\r\n",
      "4.4,3.2,1.3,0.2,0\r\n",
      "5.4,3.4,1.5,0.4,0\r\n",
      "6.9,3.1,5.1,2.3,2\r\n",
      "6.7,3.1,4.4,1.4,1\r\n"
     ]
    }
   ],
   "source": [
    "!head -n10 {train_dataset_fp}"
   ]
  },
  {
   "cell_type": "code",
   "execution_count": 4,
   "metadata": {},
   "outputs": [],
   "source": [
    "def parse_csv(line):\n",
    "  example_defaults = [[0.], [0.], [0.], [0.], [0]]  # sets field types\n",
    "  parsed_line = tf.decode_csv(line, example_defaults)\n",
    "  # First 4 fields are features, combine into single tensor\n",
    "  features = tf.reshape(parsed_line[:-1], shape=(4,))\n",
    "  # Last field is the label\n",
    "  label = tf.reshape(parsed_line[-1], shape=())\n",
    "  return features, label"
   ]
  },
  {
   "cell_type": "code",
   "execution_count": 5,
   "metadata": {},
   "outputs": [
    {
     "name": "stdout",
     "output_type": "stream",
     "text": [
      "example features: tf.Tensor([5.5 2.6 4.4 1.2], shape=(4,), dtype=float32)\n",
      "example label: tf.Tensor(1, shape=(), dtype=int32)\n",
      "tf.Tensor(\n",
      "[[5.5 2.6 4.4 1.2]\n",
      " [5.4 3.9 1.7 0.4]\n",
      " [6.  2.7 5.1 1.6]\n",
      " [4.8 3.4 1.6 0.2]\n",
      " [5.8 2.7 5.1 1.9]\n",
      " [7.2 3.2 6.  1.8]\n",
      " [6.1 3.  4.9 1.8]\n",
      " [5.2 3.5 1.5 0.2]\n",
      " [5.  3.2 1.2 0.2]\n",
      " [6.5 3.2 5.1 2. ]\n",
      " [7.7 3.  6.1 2.3]\n",
      " [5.  3.4 1.5 0.2]\n",
      " [5.4 3.  4.5 1.5]\n",
      " [5.1 3.8 1.9 0.4]\n",
      " [5.  3.6 1.4 0.2]\n",
      " [5.1 3.8 1.5 0.3]\n",
      " [7.  3.2 4.7 1.4]\n",
      " [6.4 3.2 5.3 2.3]\n",
      " [5.5 2.4 3.7 1. ]\n",
      " [6.1 2.6 5.6 1.4]\n",
      " [5.4 3.9 1.3 0.4]\n",
      " [6.4 2.8 5.6 2.2]\n",
      " [6.8 2.8 4.8 1.4]\n",
      " [5.8 2.8 5.1 2.4]\n",
      " [6.3 3.4 5.6 2.4]\n",
      " [4.6 3.1 1.5 0.2]\n",
      " [5.  3.3 1.4 0.2]\n",
      " [6.8 3.  5.5 2.1]\n",
      " [5.6 2.5 3.9 1.1]\n",
      " [5.  2.3 3.3 1. ]\n",
      " [5.7 2.8 4.5 1.3]\n",
      " [5.8 2.6 4.  1.2]], shape=(32, 4), dtype=float32)\n",
      "tf.Tensor([1 0 1 0 2 2 2 0 0 2 2 0 1 0 0 0 1 2 1 2 0 2 1 2 2 0 0 2 1 1 1 1], shape=(32,), dtype=int32)\n"
     ]
    }
   ],
   "source": [
    "train_dataset = tf.data.TextLineDataset(train_dataset_fp)\n",
    "train_dataset = train_dataset.skip(1)             # skip the first header row\n",
    "train_dataset = train_dataset.map(parse_csv)      # parse each row\n",
    "train_dataset = train_dataset.shuffle(buffer_size=1000)  # randomize\n",
    "train_dataset = train_dataset.batch(32)\n",
    "\n",
    "# View a single example entry from a batch\n",
    "features, label = iter(train_dataset).next()\n",
    "print(\"example features:\", features[0])\n",
    "print(\"example label:\", label[0])\n",
    "\n",
    "print(features)\n",
    "print(label)"
   ]
  },
  {
   "cell_type": "code",
   "execution_count": 6,
   "metadata": {},
   "outputs": [],
   "source": [
    "model = tf.keras.Sequential([\n",
    "  tf.keras.layers.Dense(10, activation=\"relu\", input_shape=(4,)),  # input shape required\n",
    "  tf.keras.layers.Dense(10, activation=\"relu\"),\n",
    "  tf.keras.layers.Dense(3)\n",
    "])"
   ]
  },
  {
   "cell_type": "code",
   "execution_count": 7,
   "metadata": {},
   "outputs": [],
   "source": [
    "def loss(model, x, y):\n",
    "  y_ = model(x)\n",
    "  return tf.losses.sparse_softmax_cross_entropy(labels=y, logits=y_)\n",
    "\n",
    "def grad(model, inputs, targets):\n",
    "  with tf.GradientTape() as tape:\n",
    "    loss_value = loss(model, inputs, targets)\n",
    "  return tape.gradient(loss_value, model.variables)"
   ]
  },
  {
   "cell_type": "code",
   "execution_count": 8,
   "metadata": {},
   "outputs": [],
   "source": [
    "optimizer = tf.train.GradientDescentOptimizer(learning_rate=0.001)\n"
   ]
  },
  {
   "cell_type": "code",
   "execution_count": 9,
   "metadata": {},
   "outputs": [
    {
     "name": "stdout",
     "output_type": "stream",
     "text": [
      "Epoch 000: Loss: 1.473, Accuracy: 30.000%\n",
      "Epoch 050: Loss: 1.046, Accuracy: 51.667%\n",
      "Epoch 100: Loss: 0.991, Accuracy: 35.000%\n",
      "Epoch 150: Loss: 0.906, Accuracy: 35.000%\n",
      "Epoch 200: Loss: 0.820, Accuracy: 67.500%\n",
      "Epoch 250: Loss: 0.758, Accuracy: 70.000%\n",
      "Epoch 300: Loss: 0.712, Accuracy: 70.833%\n",
      "Epoch 350: Loss: 0.668, Accuracy: 70.833%\n",
      "Epoch 400: Loss: 0.619, Accuracy: 70.833%\n",
      "Epoch 450: Loss: 0.569, Accuracy: 75.000%\n",
      "Epoch 500: Loss: 0.530, Accuracy: 78.333%\n",
      "Epoch 550: Loss: 0.488, Accuracy: 80.833%\n",
      "Epoch 600: Loss: 0.456, Accuracy: 82.500%\n",
      "Epoch 650: Loss: 0.437, Accuracy: 83.333%\n",
      "Epoch 700: Loss: 0.413, Accuracy: 85.833%\n",
      "Epoch 750: Loss: 0.397, Accuracy: 89.167%\n",
      "Epoch 800: Loss: 0.384, Accuracy: 89.167%\n",
      "Epoch 850: Loss: 0.369, Accuracy: 89.167%\n",
      "Epoch 900: Loss: 0.353, Accuracy: 90.000%\n",
      "Epoch 950: Loss: 0.335, Accuracy: 93.333%\n",
      "Epoch 1000: Loss: 0.328, Accuracy: 93.333%\n",
      "Epoch 1050: Loss: 0.312, Accuracy: 94.167%\n",
      "Epoch 1100: Loss: 0.299, Accuracy: 94.167%\n",
      "Epoch 1150: Loss: 0.293, Accuracy: 95.833%\n",
      "Epoch 1200: Loss: 0.276, Accuracy: 95.000%\n",
      "Epoch 1250: Loss: 0.272, Accuracy: 96.667%\n",
      "Epoch 1300: Loss: 0.265, Accuracy: 97.500%\n",
      "Epoch 1350: Loss: 0.256, Accuracy: 97.500%\n",
      "Epoch 1400: Loss: 0.243, Accuracy: 97.500%\n",
      "Epoch 1450: Loss: 0.228, Accuracy: 97.500%\n",
      "Epoch 1500: Loss: 0.228, Accuracy: 97.500%\n",
      "Epoch 1550: Loss: 0.216, Accuracy: 97.500%\n",
      "Epoch 1600: Loss: 0.212, Accuracy: 97.500%\n",
      "Epoch 1650: Loss: 0.198, Accuracy: 97.500%\n",
      "Epoch 1700: Loss: 0.192, Accuracy: 97.500%\n",
      "Epoch 1750: Loss: 0.188, Accuracy: 97.500%\n",
      "Epoch 1800: Loss: 0.183, Accuracy: 97.500%\n",
      "Epoch 1850: Loss: 0.177, Accuracy: 97.500%\n",
      "Epoch 1900: Loss: 0.172, Accuracy: 97.500%\n",
      "Epoch 1950: Loss: 0.164, Accuracy: 97.500%\n",
      "Epoch 2000: Loss: 0.157, Accuracy: 97.500%\n"
     ]
    }
   ],
   "source": [
    "## Note: Rerunning this cell uses the same model variables\n",
    "\n",
    "# keep results for plotting\n",
    "train_loss_results = []\n",
    "train_accuracy_results = []\n",
    "\n",
    "num_epochs = 2001\n",
    "\n",
    "for epoch in range(num_epochs):\n",
    "  epoch_loss_avg = tfe.metrics.Mean()\n",
    "  epoch_accuracy = tfe.metrics.Accuracy()\n",
    "\n",
    "  # Training loop - using batches of 32\n",
    "  for x, y in train_dataset:\n",
    "    # Optimize the model\n",
    "    grads = grad(model, x, y)\n",
    "    optimizer.apply_gradients(zip(grads, model.variables),\n",
    "                              global_step=tf.train.get_or_create_global_step())\n",
    "\n",
    "    # Track progress\n",
    "    epoch_loss_avg(loss(model, x, y))  # add current batch loss\n",
    "    # compare predicted label to actual label\n",
    "    epoch_accuracy(tf.argmax(model(x), axis=1, output_type=tf.int32), y)\n",
    "\n",
    "  # end epoch\n",
    "  train_loss_results.append(epoch_loss_avg.result())\n",
    "  train_accuracy_results.append(epoch_accuracy.result())\n",
    "\n",
    "  if epoch % 50 == 0:\n",
    "    print(\"Epoch {:03d}: Loss: {:.3f}, Accuracy: {:.3%}\".format(epoch,\n",
    "                                                                epoch_loss_avg.result(),\n",
    "                                                                epoch_accuracy.result()))\n"
   ]
  },
  {
   "cell_type": "code",
   "execution_count": 10,
   "metadata": {},
   "outputs": [
    {
     "data": {
      "image/png": "[encoded data removed]",
      "text/plain": [
       "<Figure size 864x576 with 2 Axes>"
      ]
     },
     "metadata": {},
     "output_type": "display_data"
    }
   ],
   "source": [
    "fig, axes = plt.subplots(2, sharex=True, figsize=(12, 8))\n",
    "fig.suptitle('Training Metrics')\n",
    "\n",
    "axes[0].set_ylabel(\"Loss\", fontsize=14)\n",
    "axes[0].plot(train_loss_results)\n",
    "\n",
    "axes[1].set_ylabel(\"Accuracy\", fontsize=14)\n",
    "axes[1].set_xlabel(\"Epoch\", fontsize=14)\n",
    "axes[1].plot(train_accuracy_results)\n",
    "\n",
    "plt.show()"
   ]
  },
  {
   "cell_type": "code",
   "execution_count": 16,
   "metadata": {},
   "outputs": [],
   "source": [
    "test_url = \"http://download.tensorflow.org/data/iris_test.csv\"\n",
    "\n",
    "test_fp = tf.keras.utils.get_file(fname=os.path.basename(test_url),\n",
    "                                  origin=test_url)\n",
    "\n"
   ]
  },
  {
   "cell_type": "code",
   "execution_count": 17,
   "metadata": {},
   "outputs": [],
   "source": [
    "test_dataset = tf.data.TextLineDataset(test_fp)\n",
    "test_dataset = test_dataset.skip(1)             # skip header row\n",
    "test_dataset = test_dataset.map(parse_csv)      # parse each row with the funcition created earlier\n",
    "test_dataset = test_dataset.shuffle(1000)       # randomize\n",
    "test_dataset = test_dataset.batch(32)           # use the same batch size as the training set"
   ]
  },
  {
   "cell_type": "code",
   "execution_count": 18,
   "metadata": {},
   "outputs": [
    {
     "name": "stdout",
     "output_type": "stream",
     "text": [
      "Test set accuracy: 93.333%\n"
     ]
    }
   ],
   "source": [
    "test_accuracy = tfe.metrics.Accuracy()\n",
    "\n",
    "for (x, y) in test_dataset:\n",
    "  prediction = tf.argmax(model(x), axis=1, output_type=tf.int32)\n",
    "  test_accuracy(prediction, y)\n",
    "\n",
    "print(\"Test set accuracy: {:.3%}\".format(test_accuracy.result()))"
   ]
  },
  {
   "cell_type": "code",
   "execution_count": 19,
   "metadata": {},
   "outputs": [
    {
     "name": "stdout",
     "output_type": "stream",
     "text": [
      "Example 0 prediction: Iris setosa\n",
      "Example 1 prediction: Iris versicolor\n",
      "Example 2 prediction: Iris virginica\n"
     ]
    }
   ],
   "source": [
    "class_ids = [\"Iris setosa\", \"Iris versicolor\", \"Iris virginica\"]\n",
    "\n",
    "predict_dataset = tf.convert_to_tensor([\n",
    "    [5.1, 3.3, 1.7, 0.5,],\n",
    "    [5.9, 3.0, 4.2, 1.5,],\n",
    "    [6.9, 3.1, 5.4, 2.1]\n",
    "])\n",
    "\n",
    "predictions = model(predict_dataset)\n",
    "\n",
    "for i, logits in enumerate(predictions):\n",
    "  class_idx = tf.argmax(logits).numpy()\n",
    "  name = class_ids[class_idx]\n",
    "  print(\"Example {} prediction: {}\".format(i, name))\n"
   ]
  },
  {
   "cell_type": "code",
   "execution_count": null,
   "metadata": {},
   "outputs": [],
   "source": []
  }
 ],
 "metadata": {
  "kernelspec": {
   "display_name": "Python 3",
   "language": "python",
   "name": "python3"
  },
  "language_info": {
   "codemirror_mode": {
    "name": "ipython",
    "version": 3
   },
   "file_extension": ".py",
   "mimetype": "text/x-python",
   "name": "python",
   "nbconvert_exporter": "python",
   "pygments_lexer": "ipython3",
   "version": "3.6.5"
  }
 },
 "nbformat": 4,
 "nbformat_minor": 2
}
